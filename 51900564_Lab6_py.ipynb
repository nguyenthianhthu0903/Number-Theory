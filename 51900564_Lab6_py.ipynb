{
  "nbformat": 4,
  "nbformat_minor": 0,
  "metadata": {
    "colab": {
      "provenance": [],
      "authorship_tag": "ABX9TyNdeOzBjkcK86oXDoLY2yE5",
      "include_colab_link": true
    },
    "kernelspec": {
      "name": "python3",
      "display_name": "Python 3"
    },
    "language_info": {
      "name": "python"
    }
  },
  "cells": [
    {
      "cell_type": "markdown",
      "metadata": {
        "id": "view-in-github",
        "colab_type": "text"
      },
      "source": [
        "<a href=\"https://colab.research.google.com/github/nguyenthianhthu0903/Number-Theory/blob/main/51900564_Lab6_py.ipynb\" target=\"_parent\"><img src=\"https://colab.research.google.com/assets/colab-badge.svg\" alt=\"Open In Colab\"/></a>"
      ]
    },
    {
      "cell_type": "code",
      "metadata": {
        "colab": {
          "base_uri": "https://localhost:8080/"
        },
        "id": "2WHq8xrDS4vJ",
        "outputId": "59631e0f-38a2-4f79-c0e6-7f0e0180f738"
      },
      "source": [
        "print(\"Cau 1: \")\n",
        "def Prime(n):\n",
        "    if n<1:\n",
        "        return False\n",
        "    if n==2:\n",
        "        return True\n",
        "    for i in range(2,n):\n",
        "        if n%i==0:\n",
        "            return False\n",
        "    return True\n",
        "def nextPrime(n):\n",
        "    n =  n + 1\n",
        "    while True:\n",
        "        if Prime(n):\n",
        "            return n\n",
        "        n =  n + 1\n",
        "print(nextPrime(3))\n",
        "print(\"nextPrime(8) is \",nextPrime(8)) "
      ],
      "execution_count": null,
      "outputs": [
        {
          "output_type": "stream",
          "name": "stdout",
          "text": [
            "Cau 1: \n",
            "5\n",
            "nextPrime(8) is  11\n"
          ]
        }
      ]
    },
    {
      "cell_type": "code",
      "metadata": {
        "colab": {
          "base_uri": "https://localhost:8080/"
        },
        "id": "eYe3mj62h-AV",
        "outputId": "60ac2357-27f4-4a0e-d3d7-131447f54dd9"
      },
      "source": [
        "def primeFact(n):\n",
        "  i=2\n",
        "  a=[]\n",
        "  while (n>1):\n",
        "    if (n%i==0):\n",
        "      n=n/i\n",
        "      a.append(i)\n",
        "    else:\n",
        "      i=i+1\n",
        "  if (len(a)==0):\n",
        "    a.append(n)\n",
        "  return a\n",
        "\n",
        "n=60\n",
        "a=primeFact(n)\n",
        "s=''\n",
        "for i in range(0,len(a)-1):\n",
        "    s=s+ str (a[i])\n",
        "    \n",
        "s=s+str (a[len(a)-1])\n",
        "print('Cau 2')\n",
        "print(s)\n",
        "print(\"60-> \",primeFact(60))"
      ],
      "execution_count": null,
      "outputs": [
        {
          "output_type": "stream",
          "name": "stdout",
          "text": [
            "Cau 2\n",
            "2235\n",
            "60->  [2, 2, 3, 5]\n"
          ]
        }
      ]
    },
    {
      "cell_type": "code",
      "metadata": {
        "colab": {
          "base_uri": "https://localhost:8080/"
        },
        "id": "GlvtEG6BvBtK",
        "outputId": "c5ddf4c8-99e2-4a69-cf01-4f382e6c3fad"
      },
      "source": [
        "print(\"Cau 3: \")\n",
        "def printPrime(N):\n",
        "    a=[]\n",
        "    i=2;\n",
        "    for i in range(2,N):\n",
        "        if(Prime(i)):\n",
        "            a.append(i)\n",
        "    a[::-1]\n",
        "    print(N,\" --> \",a)\n",
        "printPrime(60)"
      ],
      "execution_count": null,
      "outputs": [
        {
          "output_type": "stream",
          "name": "stdout",
          "text": [
            "Cau 3: \n",
            "60  -->  [2, 3, 5, 7, 11, 13, 17, 19, 23, 29, 31, 37, 41, 43, 47, 53, 59]\n"
          ]
        }
      ]
    },
    {
      "cell_type": "code",
      "metadata": {
        "colab": {
          "base_uri": "https://localhost:8080/"
        },
        "id": "7PdbwZMKNJqU",
        "outputId": "70a88df2-22e7-4517-e057-c1d5ef19071f"
      },
      "source": [
        "def Cau4(n):\n",
        "  \n",
        "  O=[]\n",
        "  if (n<2):\n",
        "    return O\n",
        "  else:\n",
        "    O.append(2)\n",
        "    i=3\n",
        "    flag=True\n",
        "    j=0\n",
        "    while (i%O[j]!=0):\n",
        "      while ( j+1>=len(O)):\n",
        "        if (flag==True):\n",
        "          O.append(i)\n",
        "      j=j + 1\n",
        "      flag=False\n",
        "      if i+2<n:\n",
        "         i=i+2\n",
        "         flag =True\n",
        "      else: \n",
        "        return O\n",
        "print('Cau 4')\n",
        "print(Cau4(10))\n",
        "print(Cau4(20))\n",
        "print(Cau4(5))"
      ],
      "execution_count": null,
      "outputs": [
        {
          "output_type": "stream",
          "name": "stdout",
          "text": [
            "Cau 4\n",
            "[2, 3, 5, 7, 9]\n",
            "[2, 3, 5, 7, 9, 11, 13, 15, 17, 19]\n",
            "[2, 3]\n"
          ]
        }
      ]
    },
    {
      "cell_type": "code",
      "metadata": {
        "colab": {
          "base_uri": "https://localhost:8080/"
        },
        "id": "MWX-v1wEN8RL",
        "outputId": "87cb6aff-24ae-456c-9e96-86a84aeb2afd"
      },
      "source": [
        "print(\"Cau 5: \")\n",
        "def gcd(a,b):\n",
        "    while (a != b):\n",
        "        if (a > b):\n",
        "            a = a - b\n",
        "        else:\n",
        "            b = b - a\n",
        "    return a;\n",
        "print(\"GCD(10,50) = \",gcd(22,11)) "
      ],
      "execution_count": null,
      "outputs": [
        {
          "output_type": "stream",
          "name": "stdout",
          "text": [
            "Cau 5: \n",
            "GCD(10,50) =  11\n"
          ]
        }
      ]
    },
    {
      "cell_type": "code",
      "metadata": {
        "colab": {
          "base_uri": "https://localhost:8080/"
        },
        "id": "lo3pcOcNOGaY",
        "outputId": "0d64a144-4b4f-4250-932f-10a0ced9dac3"
      },
      "source": [
        "print(\"Cau 6: \")\n",
        "def lcm(a, b):\n",
        "    return a*b/gcd(a,b)\n",
        "print(\"LCM(10,50) = \",lcm(10,50))  "
      ],
      "execution_count": null,
      "outputs": [
        {
          "output_type": "stream",
          "name": "stdout",
          "text": [
            "Cau 6: \n",
            "LCM(10,50) =  50.0\n"
          ]
        }
      ]
    },
    {
      "cell_type": "code",
      "metadata": {
        "colab": {
          "base_uri": "https://localhost:8080/"
        },
        "id": "u15GuG2wOOJW",
        "outputId": "526be258-7cc6-4037-c52e-928719ec8adf"
      },
      "source": [
        "print(\"Cau 7: \") \n",
        "def D2B(n):\n",
        "    b = [] \n",
        "    x = n\n",
        "    while x>0:\n",
        "        b.append(x%2) \n",
        "        x = x//2\n",
        "    return b[::-1]\n",
        "\n",
        "print(\"15 -> \",D2B(15))"
      ],
      "execution_count": null,
      "outputs": [
        {
          "output_type": "stream",
          "name": "stdout",
          "text": [
            "Cau 7: \n",
            "15 ->  [1, 1, 1, 1]\n"
          ]
        }
      ]
    },
    {
      "cell_type": "code",
      "metadata": {
        "colab": {
          "base_uri": "https://localhost:8080/"
        },
        "id": "zsQ6eERKOjez",
        "outputId": "df7d8336-0220-47f4-fdd0-95d0f70c7d09"
      },
      "source": [
        "print(\"Cau 8: \")\n",
        "def DtoB2(n):\n",
        "\ta=n//1\n",
        "\tb=n-a\n",
        "\tc=[]\n",
        "\td=[]\n",
        "\tc.append(D2B(a))\n",
        "\twhile b<1:\n",
        "\t\tb=b*2\n",
        "\t\tt = int(b//1)\n",
        "\t\td.append(t)\n",
        "\tc.append(d)\n",
        "\treturn c\n",
        "print(\"5.25 -> \",DtoB2(5.25))"
      ],
      "execution_count": null,
      "outputs": [
        {
          "output_type": "stream",
          "name": "stdout",
          "text": [
            "Cau 8: \n",
            "5.25 ->  [[1.0, 0.0, 1.0], [0, 1]]\n"
          ]
        }
      ]
    },
    {
      "cell_type": "code",
      "metadata": {
        "id": "xwCsjJ70OoUN",
        "colab": {
          "base_uri": "https://localhost:8080/"
        },
        "outputId": "8f7f93b3-3db8-41de-d115-c1c26cf6eb92"
      },
      "source": [
        "print(\"Cau 9: \")\n",
        "def D2H(n):\n",
        "    b = [] \n",
        "    c=[]\n",
        "    x = n\n",
        "    while x>0:\n",
        "        b.append(x%16) \n",
        "        x = x//16\n",
        "    b[::-1]\n",
        "    for i in b:\n",
        "        if(i==10):\n",
        "            c.append(\"A\")\n",
        "        elif(i==11):\n",
        "            c.append(\"B\")\n",
        "        elif(i==12):\n",
        "            c.append(\"C\")\n",
        "        elif(i==13):\n",
        "            c.append(\"D\")\n",
        "        elif(i==14):\n",
        "            c.append(\"E\")\n",
        "        elif(i==15):\n",
        "            c.append(\"F\")\n",
        "        else:\n",
        "            c.append(i)\n",
        "    return c[::-1];\n",
        "print(\"109 -> \",D2H(109))\n"
      ],
      "execution_count": null,
      "outputs": [
        {
          "output_type": "stream",
          "name": "stdout",
          "text": [
            "Cau 9: \n",
            "109 ->  [6, 'D']\n"
          ]
        }
      ]
    },
    {
      "cell_type": "code",
      "metadata": {
        "id": "CiCqU9Pa_BAX"
      },
      "source": [],
      "execution_count": null,
      "outputs": []
    }
  ]
}